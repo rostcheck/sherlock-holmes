{
 "cells": [
  {
   "cell_type": "markdown",
   "metadata": {},
   "source": [
    "# Download and extract Sherlock Holmes stories"
   ]
  },
  {
   "cell_type": "markdown",
   "metadata": {},
   "source": [
    "4/1/12 David Rostcheck (drostcheck@leopardllc.com)"
   ]
  },
  {
   "cell_type": "markdown",
   "metadata": {},
   "source": [
    "This notebook downloads the Sherlock Holmes stories, removes those that are not public domain in the USA, and saves them to a CSV file for later processing. It is derived from a Dato GraphLab Create demo by Michael Fire, available here: https://dato.com/learn/gallery/notebooks/sherlock_text_analytics.html"
   ]
  },
  {
   "cell_type": "code",
   "execution_count": 2,
   "metadata": {
    "collapsed": true
   },
   "outputs": [],
   "source": [
    "import re"
   ]
  },
  {
   "cell_type": "code",
   "execution_count": 3,
   "metadata": {
    "collapsed": true
   },
   "outputs": [],
   "source": [
    "import urllib2"
   ]
  },
  {
   "cell_type": "code",
   "execution_count": 4,
   "metadata": {
    "collapsed": true
   },
   "outputs": [],
   "source": [
    "books_url = \"http://sherlock-holm.es/ascii/\""
   ]
  },
  {
   "cell_type": "code",
   "execution_count": 5,
   "metadata": {
    "collapsed": false
   },
   "outputs": [],
   "source": [
    "re_books_links = re.compile(\"\\\"piwik_download\\\"\\s+href=\\\"(?P<link>.*?)\\\">(?P<title>.*?)</a>\", re.MULTILINE)\n",
    "html = urllib2.urlopen(books_url).read()\n",
    "books_list = [m.groupdict() for m in re_books_links.finditer(html)]"
   ]
  },
  {
   "cell_type": "code",
   "execution_count": 6,
   "metadata": {
    "collapsed": false
   },
   "outputs": [],
   "source": [
    "# Filter books due to copyright issues. In this code, we filtered \"The Complete Canon\", “Case-Book of Sherlock Holmes” books, and\n",
    "# \"The Canon — U.S. edition\" book (For more information please read the note above).\n",
    "filtered_books = set([\"The Complete Canon\", \"The Case-Book of Sherlock Holmes\", \"The Canon — U.S. edition\" ])\n",
    "books_list = filter(lambda d: d['title'] not in filtered_books, books_list )"
   ]
  },
  {
   "cell_type": "code",
   "execution_count": 7,
   "metadata": {
    "collapsed": false
   },
   "outputs": [
    {
     "data": {
      "text/plain": [
       "64"
      ]
     },
     "execution_count": 7,
     "metadata": {},
     "output_type": "execute_result"
    }
   ],
   "source": [
    "len(books_list)"
   ]
  },
  {
   "cell_type": "code",
   "execution_count": 9,
   "metadata": {
    "collapsed": false
   },
   "outputs": [
    {
     "data": {
      "text/plain": [
       "[{'link': '/stories/plain-text/advs.txt',\n",
       "  'title': 'The Adventures of Sherlock Holmes'},\n",
       " {'link': '/stories/plain-text/mems.txt',\n",
       "  'title': 'The Memoirs of Sherlock Holmes'},\n",
       " {'link': '/stories/plain-text/retn.txt',\n",
       "  'title': 'The Return of Sherlock Holmes'},\n",
       " {'link': '/stories/plain-text/lstb.txt', 'title': 'His Last Bow'},\n",
       " {'link': '/stories/plain-text/stud.txt', 'title': 'A Study In Scarlet'},\n",
       " {'link': '/stories/plain-text/sign.txt', 'title': 'The Sign of the Four'},\n",
       " {'link': '/stories/plain-text/houn.txt',\n",
       "  'title': 'The Hound of the Baskervilles'},\n",
       " {'link': '/stories/plain-text/vall.txt', 'title': 'The Valley of Fear'},\n",
       " {'link': '/stories/plain-text/scan.txt', 'title': 'A Scandal in Bohemia'},\n",
       " {'link': '/stories/plain-text/redh.txt', 'title': 'The Red-Headed League'},\n",
       " {'link': '/stories/plain-text/iden.txt', 'title': 'A Case of Identity'},\n",
       " {'link': '/stories/plain-text/bosc.txt',\n",
       "  'title': 'The Boscombe Valley Mystery'},\n",
       " {'link': '/stories/plain-text/five.txt', 'title': 'The Five Orange Pips'},\n",
       " {'link': '/stories/plain-text/twis.txt',\n",
       "  'title': 'The Man with the Twisted Lip'},\n",
       " {'link': '/stories/plain-text/blue.txt',\n",
       "  'title': 'The Adventure of the Blue Carbuncle'},\n",
       " {'link': '/stories/plain-text/spec.txt',\n",
       "  'title': 'The Adventure of the Speckled Band'},\n",
       " {'link': '/stories/plain-text/engr.txt',\n",
       "  'title': \"The Adventure of the Engineer's Thumb\"},\n",
       " {'link': '/stories/plain-text/nobl.txt',\n",
       "  'title': 'The Adventure of the Noble Bachelor'},\n",
       " {'link': '/stories/plain-text/bery.txt',\n",
       "  'title': 'The Adventure of the Beryl Coronet'},\n",
       " {'link': '/stories/plain-text/copp.txt',\n",
       "  'title': 'The Adventure of the Copper Beeches'},\n",
       " {'link': '/stories/plain-text/silv.txt', 'title': 'Silver Blaze'},\n",
       " {'link': '/stories/plain-text/yell.txt', 'title': 'Yellow Face'},\n",
       " {'link': '/stories/plain-text/stoc.txt', 'title': \"The Stockbroker's Clerk\"},\n",
       " {'link': '/stories/plain-text/glor.txt',\n",
       "  'title': 'The \\xe2\\x80\\x9cGloria Scott\\xe2\\x80\\x9d'},\n",
       " {'link': '/stories/plain-text/musg.txt', 'title': 'The Musgrave Ritual'},\n",
       " {'link': '/stories/plain-text/reig.txt', 'title': 'The Reigate Puzzle'},\n",
       " {'link': '/stories/plain-text/croo.txt', 'title': 'The Crooked Man'},\n",
       " {'link': '/stories/plain-text/resi.txt', 'title': 'The Resident Patient'},\n",
       " {'link': '/stories/plain-text/gree.txt', 'title': 'The Greek Interpreter'},\n",
       " {'link': '/stories/plain-text/nava.txt', 'title': 'The Naval Treaty'},\n",
       " {'link': '/stories/plain-text/fina.txt', 'title': 'The Final Problem'},\n",
       " {'link': '/stories/plain-text/empt.txt', 'title': 'The Empty House'},\n",
       " {'link': '/stories/plain-text/norw.txt', 'title': 'The Norwood Builder'},\n",
       " {'link': '/stories/plain-text/danc.txt', 'title': 'The Dancing Men'},\n",
       " {'link': '/stories/plain-text/soli.txt', 'title': 'The Solitary Cyclist'},\n",
       " {'link': '/stories/plain-text/prio.txt', 'title': 'The Priory School'},\n",
       " {'link': '/stories/plain-text/blac.txt', 'title': 'Black Peter'},\n",
       " {'link': '/stories/plain-text/chas.txt',\n",
       "  'title': 'Charles Augustus Milverton'},\n",
       " {'link': '/stories/plain-text/sixn.txt', 'title': 'The Six Napoleons'},\n",
       " {'link': '/stories/plain-text/3stu.txt', 'title': 'The Three Students'},\n",
       " {'link': '/stories/plain-text/gold.txt', 'title': 'The Golden Pince-Nez'},\n",
       " {'link': '/stories/plain-text/miss.txt',\n",
       "  'title': 'The Missing Three-Quarter'},\n",
       " {'link': '/stories/plain-text/abbe.txt', 'title': 'The Abbey Grange'},\n",
       " {'link': '/stories/plain-text/seco.txt', 'title': 'The Second Stain'},\n",
       " {'link': '/stories/plain-text/wist.txt', 'title': 'Wisteria Lodge'},\n",
       " {'link': '/stories/plain-text/card.txt', 'title': 'The Cardboard Box'},\n",
       " {'link': '/stories/plain-text/redc.txt', 'title': 'The Red Circle'},\n",
       " {'link': '/stories/plain-text/bruc.txt',\n",
       "  'title': 'The Bruce-Partington Plans'},\n",
       " {'link': '/stories/plain-text/dyin.txt', 'title': 'The Dying Detective'},\n",
       " {'link': '/stories/plain-text/lady.txt', 'title': 'Lady Frances Carfax'},\n",
       " {'link': '/stories/plain-text/devi.txt', 'title': \"The Devil's Foot\"},\n",
       " {'link': '/stories/plain-text/last.txt', 'title': 'His Last Bow'},\n",
       " {'link': '/stories/plain-text/illu.txt', 'title': 'The Illustrious Client'},\n",
       " {'link': '/stories/plain-text/blan.txt', 'title': 'The Blanched Soldier'},\n",
       " {'link': '/stories/plain-text/maza.txt', 'title': 'The Mazarin Stone'},\n",
       " {'link': '/stories/plain-text/3gab.txt', 'title': 'The Three Gables'},\n",
       " {'link': '/stories/plain-text/suss.txt', 'title': 'The Sussex Vampire'},\n",
       " {'link': '/stories/plain-text/3gar.txt', 'title': 'The Three Garridebs'},\n",
       " {'link': '/stories/plain-text/thor.txt', 'title': 'Thor Bridge'},\n",
       " {'link': '/stories/plain-text/cree.txt', 'title': 'The Creeping Man'},\n",
       " {'link': '/stories/plain-text/lion.txt', 'title': \"The Lion's Mane\"},\n",
       " {'link': '/stories/plain-text/veil.txt', 'title': 'The Veiled Lodger'},\n",
       " {'link': '/stories/plain-text/shos.txt', 'title': 'Shoscombe Old Place'},\n",
       " {'link': '/stories/plain-text/reti.txt', 'title': 'The Retired Colourman'}]"
      ]
     },
     "execution_count": 9,
     "metadata": {},
     "output_type": "execute_result"
    }
   ],
   "source": [
    "books_list"
   ]
  },
  {
   "cell_type": "code",
   "execution_count": 9,
   "metadata": {
    "collapsed": false
   },
   "outputs": [
    {
     "name": "stdout",
     "output_type": "stream",
     "text": [
      "processing The Adventures of Sherlock Holmes\n",
      "processing The Memoirs of Sherlock Holmes\n",
      "processing The Return of Sherlock Holmes\n",
      "processing His Last Bow\n",
      "processing A Study In Scarlet\n",
      "processing The Sign of the Four\n",
      "processing The Hound of the Baskervilles\n",
      "processing The Valley of Fear\n",
      "processing A Scandal in Bohemia\n",
      "processing The Red-Headed League\n",
      "processing A Case of Identity\n",
      "processing The Boscombe Valley Mystery\n",
      "processing The Five Orange Pips\n",
      "processing The Man with the Twisted Lip\n",
      "processing The Adventure of the Blue Carbuncle\n",
      "processing The Adventure of the Speckled Band\n",
      "processing The Adventure of the Engineer's Thumb\n",
      "processing The Adventure of the Noble Bachelor\n",
      "processing The Adventure of the Beryl Coronet\n",
      "processing The Adventure of the Copper Beeches\n",
      "processing Silver Blaze\n",
      "processing Yellow Face\n",
      "processing The Stockbroker's Clerk\n",
      "processing The “Gloria Scott”\n",
      "processing The Musgrave Ritual\n",
      "processing The Reigate Puzzle\n",
      "processing The Crooked Man\n",
      "processing The Resident Patient\n",
      "processing The Greek Interpreter\n",
      "processing The Naval Treaty\n",
      "processing The Final Problem\n",
      "processing The Empty House\n",
      "processing The Norwood Builder\n",
      "processing The Dancing Men\n",
      "processing The Solitary Cyclist\n",
      "processing The Priory School\n",
      "processing Black Peter\n",
      "processing Charles Augustus Milverton\n",
      "processing The Six Napoleons\n",
      "processing The Three Students\n",
      "processing The Golden Pince-Nez\n",
      "processing The Missing Three-Quarter\n",
      "processing The Abbey Grange\n",
      "processing The Second Stain\n",
      "processing Wisteria Lodge\n",
      "processing The Cardboard Box\n",
      "processing The Red Circle\n",
      "processing The Bruce-Partington Plans\n",
      "processing The Dying Detective\n",
      "processing Lady Frances Carfax\n",
      "processing The Devil's Foot\n",
      "processing His Last Bow\n",
      "processing The Illustrious Client\n",
      "processing The Blanched Soldier\n",
      "processing The Mazarin Stone\n",
      "processing The Three Gables\n",
      "processing The Sussex Vampire\n",
      "processing The Three Garridebs\n",
      "processing Thor Bridge\n",
      "processing The Creeping Man\n",
      "processing The Lion's Mane\n",
      "processing The Veiled Lodger\n",
      "processing Shoscombe Old Place\n",
      "processing The Retired Colourman\n"
     ]
    }
   ],
   "source": [
    "for d in books_list:\n",
    "    print 'processing ' + d['title']\n",
    "    d['text'] = urllib2.urlopen(\"http://sherlock-holm.es\" + d['link']).read().strip()"
   ]
  },
  {
   "cell_type": "code",
   "execution_count": 17,
   "metadata": {
    "collapsed": false
   },
   "outputs": [
    {
     "data": {
      "text/plain": [
       "511747"
      ]
     },
     "execution_count": 17,
     "metadata": {},
     "output_type": "execute_result"
    }
   ],
   "source": [
    "len(books_list[1]['text'])"
   ]
  },
  {
   "cell_type": "code",
   "execution_count": 19,
   "metadata": {
    "collapsed": true
   },
   "outputs": [],
   "source": [
    "import pandas"
   ]
  },
  {
   "cell_type": "code",
   "execution_count": 21,
   "metadata": {
    "collapsed": false
   },
   "outputs": [],
   "source": [
    "df = pandas.DataFrame(books_list)"
   ]
  },
  {
   "cell_type": "code",
   "execution_count": 24,
   "metadata": {
    "collapsed": false
   },
   "outputs": [
    {
     "data": {
      "text/html": [
       "<div>\n",
       "<table border=\"1\" class=\"dataframe\">\n",
       "  <thead>\n",
       "    <tr style=\"text-align: right;\">\n",
       "      <th></th>\n",
       "      <th>link</th>\n",
       "      <th>text</th>\n",
       "      <th>title</th>\n",
       "    </tr>\n",
       "  </thead>\n",
       "  <tbody>\n",
       "    <tr>\n",
       "      <th>count</th>\n",
       "      <td>64</td>\n",
       "      <td>64</td>\n",
       "      <td>64</td>\n",
       "    </tr>\n",
       "    <tr>\n",
       "      <th>unique</th>\n",
       "      <td>64</td>\n",
       "      <td>64</td>\n",
       "      <td>63</td>\n",
       "    </tr>\n",
       "    <tr>\n",
       "      <th>top</th>\n",
       "      <td>/stories/plain-text/spec.txt</td>\n",
       "      <td>THE ADVENTURE OF THE\\n                        ...</td>\n",
       "      <td>His Last Bow</td>\n",
       "    </tr>\n",
       "    <tr>\n",
       "      <th>freq</th>\n",
       "      <td>1</td>\n",
       "      <td>1</td>\n",
       "      <td>2</td>\n",
       "    </tr>\n",
       "  </tbody>\n",
       "</table>\n",
       "</div>"
      ],
      "text/plain": [
       "                                link  \\\n",
       "count                             64   \n",
       "unique                            64   \n",
       "top     /stories/plain-text/spec.txt   \n",
       "freq                               1   \n",
       "\n",
       "                                                     text         title  \n",
       "count                                                  64            64  \n",
       "unique                                                 64            63  \n",
       "top     THE ADVENTURE OF THE\\n                        ...  His Last Bow  \n",
       "freq                                                    1             2  "
      ]
     },
     "execution_count": 24,
     "metadata": {},
     "output_type": "execute_result"
    }
   ],
   "source": [
    "df.describe()"
   ]
  },
  {
   "cell_type": "code",
   "execution_count": 26,
   "metadata": {
    "collapsed": false
   },
   "outputs": [],
   "source": [
    "df.to_csv('/users/Davidr/Downloads/sherlock_holmes.csv')"
   ]
  }
 ],
 "metadata": {
  "kernelspec": {
   "display_name": "Python 2",
   "language": "python",
   "name": "python2"
  },
  "language_info": {
   "codemirror_mode": {
    "name": "ipython",
    "version": 2
   },
   "file_extension": ".py",
   "mimetype": "text/x-python",
   "name": "python",
   "nbconvert_exporter": "python",
   "pygments_lexer": "ipython2",
   "version": "2.7.11"
  }
 },
 "nbformat": 4,
 "nbformat_minor": 0
}
